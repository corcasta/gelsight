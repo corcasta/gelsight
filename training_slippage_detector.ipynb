{
 "cells": [
  {
   "cell_type": "code",
   "execution_count": 59,
   "id": "faac6daf-b3c7-4669-9838-06375e067647",
   "metadata": {},
   "outputs": [],
   "source": [
    "import torch\n",
    "import torch.nn as nn\n",
    "import torch.optim as optim\n",
    "from torch.optim import lr_scheduler\n",
    "import torch.backends.cudnn as cudnn\n",
    "import numpy as np\n",
    "import torchvision\n",
    "import torch.nn as nn\n",
    "from torchvision import datasets, models, transforms\n",
    "from torch.utils.data import Dataset, ConcatDataset, Subset, DataLoader\n",
    "from sklearn.model_selection import train_test_split\n",
    "from torchvision.io import read_image\n",
    "import matplotlib.pyplot as plt\n",
    "import math\n",
    "import time\n",
    "import os\n",
    "import pandas as pd\n",
    "import torch.nn.functional as F\n",
    "#from torch.utils.tensorboard import SummaryWriter\n",
    "import cv2\n",
    "from pytorch_forecasting import TimeSeriesDataSet\n",
    "from pytorch_tcn import TCN"
   ]
  },
  {
   "cell_type": "markdown",
   "id": "0069050e-2acd-4794-b16e-4fe8c7db668d",
   "metadata": {},
   "source": [
    "# Helper functions"
   ]
  },
  {
   "cell_type": "code",
   "execution_count": 2,
   "id": "6ef38beb-2628-4abf-8d50-c7aed3ff0ec5",
   "metadata": {},
   "outputs": [],
   "source": [
    "def train_val_dataset(dataset, val_split=0.25):\n",
    "    train_idx, val_idx = train_test_split(list(range(len(dataset))), test_size=val_split)\n",
    "    datasets = {}\n",
    "    datasets['train'] = Subset(dataset, train_idx)\n",
    "    datasets['valid'] = Subset(dataset, val_idx)\n",
    "    return datasets"
   ]
  },
  {
   "cell_type": "code",
   "execution_count": 3,
   "id": "1db475fd-4f5e-4a27-a364-a790f08a4868",
   "metadata": {},
   "outputs": [],
   "source": [
    "def preprocessing_batch(x, y, batch_first=True):\n",
    "    # *********** THIS HAS TO BE IMPLEMENTED at EVERY iteration during training **************\n",
    "    # We will extract only the tensor we actually need to feed our model (feature and label tensor)\n",
    "    x_input = x[\"encoder_cont\"]\n",
    "\n",
    "    # shape [batchsize, features]\n",
    "    y_input = torch.squeeze(y[0])\n",
    "\n",
    "    if batch_first == False:\n",
    "        # Reshaping to have: shape [Timestep, batchsize, features]\n",
    "        x_input = x_input.permute([1, 0, 2])\n",
    "    # Data types for:\n",
    "    #    Features: torch.float32\n",
    "    #    Label:    torch.int64\n",
    "    #print(f\"Features dtype: {x_input.dtype} \\nLabels dtype: {y_input.dtype}\")\n",
    "    return x_input, y_input"
   ]
  },
  {
   "cell_type": "code",
   "execution_count": 4,
   "id": "c735a04b-4f2d-4ada-8b72-837d7638362d",
   "metadata": {},
   "outputs": [],
   "source": [
    "def train_and_validate(model, loss_criterion, optimizer, epochs, train_data_loader, valid_data_loader, device):\n",
    "    '''\n",
    "    Function to train and validate\n",
    "    Parameters\n",
    "        :param model: Model to train and validate\n",
    "        :param loss_criterion: Loss Criterion to minimize\n",
    "        :param optimizer: Optimizer for computing gradients\n",
    "        :param epochs: Number of epochs (default=25)\n",
    "  \n",
    "    Returns\n",
    "        model: Trained Model with best validation accuracy\n",
    "        history: (dict object): Having training loss, accuracy and validation loss, accuracy\n",
    "    '''\n",
    "    \n",
    "    #writer = SummaryWriter()\n",
    "    model = model.to(device)\n",
    "    start = time.time()\n",
    "    history = []\n",
    "    best_loss = np.inf   # init to infinity\n",
    "\n",
    "    for epoch in range(epochs):\n",
    "        epoch_start = time.time()\n",
    "        print(\"Epoch: {}/{}\".format(epoch+1, epochs))\n",
    "        \n",
    "        # Set to training mode\n",
    "        model.train()\n",
    "        \n",
    "        # Loss and Accuracy within the epoch\n",
    "        train_loss = 0.0\n",
    "        train_acc = 0.0\n",
    "        \n",
    "        valid_loss = 0.0\n",
    "        valid_acc = 0.0\n",
    "        \n",
    "        for i, (inputs, labels) in enumerate(train_data_loader):\n",
    "            inputs, labels = preprocessing_batch(inputs, labels)\n",
    "            inputs = inputs.to(device)\n",
    "            labels = labels.to(device)\n",
    "            \n",
    "            # Clean existing gradients\n",
    "            optimizer.zero_grad()\n",
    "            \n",
    "            # Forward pass - compute outputs on input data using the model\n",
    "            outputs = model(inputs)\n",
    "\n",
    "            #print(f\"Output shape: {outputs.shape} \\t Label shape: {labels.shape}\")\n",
    "            \n",
    "            # Compute loss\n",
    "            loss = loss_criterion(outputs, labels) #.to(torch.float32)\n",
    "            \n",
    "            #print(f\"Outputs: {outputs} \\t type: {outputs.dtype}\")\n",
    "            #print(f\"Loss: {loss} \\t type: {loss.dtype}\")\n",
    "            \n",
    "            # Backpropagate the gradients\n",
    "            loss.backward()\n",
    "            \n",
    "            # Update the parameters\n",
    "            optimizer.step()\n",
    "            \n",
    "            # Compute the total loss for the batch and add it to train_loss\n",
    "            train_loss += loss.item() * inputs.size(0)\n",
    "\n",
    "            # Compute the accuracy\n",
    "            ret, predictions = torch.max(outputs.data, 1)\n",
    "            correct_counts = predictions.eq(labels.data.view_as(predictions))\n",
    "            \n",
    "            # Convert correct_counts to float and then compute the mean\n",
    "            acc = torch.mean(correct_counts.type(torch.FloatTensor))\n",
    "            \n",
    "            # Compute total accuracy in the whole batch and add to train_acc\n",
    "            train_acc += acc.item() #* inputs.size(0)\n",
    "            #print(\"Batch number: {:03d}, Training: Loss: {:.4f}, Accuracy: {:.4f}\".format(i, loss.item(), acc.item()))\n",
    "        \n",
    "        #writer.add_scalar(\"Train_loss x epoch\", train_loss/len(train_data_loader), epoch)\n",
    "        \n",
    "        # Validation - No gradient tracking needed\n",
    "        with torch.no_grad():\n",
    "\n",
    "            # Set to evaluation mode\n",
    "            model.eval()\n",
    "\n",
    "            # Validation loop\n",
    "            for j, (inputs, labels) in enumerate(valid_data_loader):\n",
    "                inputs, labels = preprocessing_batch(inputs, labels)\n",
    "                inputs = inputs.to(device)\n",
    "                labels = labels.to(device)\n",
    "\n",
    "                # Forward pass - compute outputs on input data using the model\n",
    "                outputs = model(inputs.cuda())\n",
    "\n",
    "                # Compute loss\n",
    "                loss = loss_criterion(outputs, labels)\n",
    "\n",
    "                # Compute the total loss for the batch and add it to valid_loss\n",
    "                valid_loss += loss.item() * inputs.size(0)\n",
    "\n",
    "                # Calculate validation accuracy\n",
    "                ret, predictions = torch.max(outputs.data, 1)\n",
    "                correct_counts = predictions.eq(labels.data.view_as(predictions))\n",
    "\n",
    "                # Convert correct_counts to float and then compute the mean\n",
    "                acc = torch.mean(correct_counts.type(torch.FloatTensor))\n",
    "\n",
    "                # Compute total accuracy in the whole batch and add to valid_acc\n",
    "                valid_acc += acc.item() #* inputs.size(0)\n",
    "                #print(\"Validation Batch number: {:03d}, Validation: Loss: {:.4f}, Accuracy: {:.4f}\".format(j, loss.item(), acc.item()))\n",
    "            \n",
    "        #writer.add_scalar(\"Valid_loss x epoch\", valid_loss/len(valid_data_loader), epoch)\n",
    "        \n",
    "        # Find average training loss and training accuracy\n",
    "        avg_train_loss = train_loss/len(train_data_loader) \n",
    "        avg_train_acc = train_acc/len(train_data_loader)\n",
    "        \n",
    "        # Find average training loss and training accuracy\n",
    "        avg_valid_loss = valid_loss/len(valid_data_loader) \n",
    "        avg_valid_acc = valid_acc/len(valid_data_loader)\n",
    "        \n",
    "        history.append([avg_train_loss, avg_valid_loss, avg_train_acc, avg_valid_acc])        \n",
    "        epoch_end = time.time()\n",
    "        if avg_valid_loss < best_loss:\n",
    "            print(\"New best model saved\")\n",
    "            best_loss = avg_valid_loss\n",
    "            torch.save(model.state_dict(), 'custom_model_bw.pt')\n",
    "            \n",
    "        print(\"Epoch : {:03d}, Training: Loss: {:.4f}, Accuracy: {:.4f}%, \\n\\t\\tValidation : Loss : {:.4f}, Accuracy: {:.4f}%, Time: {:.4f}s\".format(epoch+1, avg_train_loss, avg_train_acc*100, avg_valid_loss, avg_valid_acc*100, epoch_end-epoch_start))\n",
    "        #print(\"Epoch : {:03d}, Training: Loss: {:.4f}, \\n\\t\\tValidation : Loss : {:.4f}, Time: {:.4f}s\".format(epoch+1, avg_train_loss, avg_valid_loss, epoch_end-epoch_start))\n",
    "\n",
    "        # Save if the model has best accuracy till now\n",
    "        #torch.save(model, dataset+'_model_'+str(epoch)+'.pt')\n",
    "    #writer.close()      \n",
    "    return model, history"
   ]
  },
  {
   "cell_type": "markdown",
   "id": "052387dc-517e-47c4-80a5-94ba7a007a6a",
   "metadata": {},
   "source": [
    "# Custom Dataset Preprocessing"
   ]
  },
  {
   "cell_type": "code",
   "execution_count": 5,
   "id": "c1d582f4-9e0c-43e7-8a79-dbf19d5b665a",
   "metadata": {},
   "outputs": [],
   "source": [
    "train_df = pd.read_csv(\"dataset_slippage/clean/clean_sample_1.csv\")\n",
    "valid_df = pd.read_csv(\"dataset_slippage/clean/clean_sample_21.csv\")"
   ]
  },
  {
   "cell_type": "code",
   "execution_count": 6,
   "id": "fe1ff188-3054-418b-8a50-0eabff3ac6b6",
   "metadata": {},
   "outputs": [],
   "source": [
    "# Replacing categorical label with a numerical representation\n",
    "# Static  = 0\n",
    "# Slipped = 1\n",
    "train_df[\"label\"] = train_df[\"label\"].map({\"static\": 0, \"slipped\": 1})\n",
    "# Including a continuous time unitless column\n",
    "train_df[\"time_unitless\"] = range(0, len(train_df))\n",
    "# Inlcuding a series id column to identify which series\n",
    "# is who when all series are stack together in same df\n",
    "train_df[\"series_id\"] = 0"
   ]
  },
  {
   "cell_type": "code",
   "execution_count": 7,
   "id": "44a23e12-17c5-4c46-b520-88e3928dc7d8",
   "metadata": {},
   "outputs": [],
   "source": [
    "# Replacing categorical label with a numerical representation\n",
    "# Static  = 0\n",
    "# Slipped = 1\n",
    "valid_df[\"label\"] = valid_df[\"label\"].map({\"static\": 0, \"slipped\": 1})\n",
    "# Including a continuous time unitless column\n",
    "valid_df[\"time_unitless\"] = range(0, len(valid_df))\n",
    "# Inlcuding a series id column to identify which series\n",
    "# is who when all series are stack together in same df\n",
    "valid_df[\"series_id\"] = 0"
   ]
  },
  {
   "cell_type": "markdown",
   "id": "7db96287-e687-45b0-a9c8-b30a648ca469",
   "metadata": {},
   "source": [
    "# Creating TimeSeries Dataset and DataLoader"
   ]
  },
  {
   "cell_type": "code",
   "execution_count": 78,
   "id": "37cacbe6-0304-4e3f-83e1-36078ca1cfdf",
   "metadata": {},
   "outputs": [],
   "source": [
    "# Window size\n",
    "window_size = 50\n",
    "input_features = [\"mag\", \"mag_avg2\", \"mag_avg3\", \"mag_avg4\"]\n",
    "feature_scalers = [None, None, None, None]\n",
    "scalers_dict = dict(zip(input_features, feature_scalers))\n",
    "\n",
    "# create the dataset from the pandas dataframe\n",
    "train_dataset = TimeSeriesDataSet(\n",
    "    train_df,\n",
    "    group_ids=[\"series_id\"],\n",
    "    target=\"label\",\n",
    "    time_idx=\"time_unitless\",\n",
    "    min_encoder_length=window_size,\n",
    "    max_encoder_length=window_size,\n",
    "    min_prediction_length=1,\n",
    "    max_prediction_length=1,\n",
    "    time_varying_unknown_reals=input_features,\n",
    "    scalers=scalers_dict,\n",
    ")\n",
    "\n",
    "# WE still have to create a separate test_dataset from other DataFrames (e.g csv file 35-40)\n",
    "# create the dataset from the pandas dataframe\n",
    "valid_dataset = TimeSeriesDataSet(\n",
    "    valid_df,\n",
    "    group_ids=[\"series_id\"],\n",
    "    target=\"label\",\n",
    "    time_idx=\"time_unitless\",\n",
    "    min_encoder_length=window_size,\n",
    "    max_encoder_length=window_size,\n",
    "    min_prediction_length=1,\n",
    "    max_prediction_length=1,\n",
    "    time_varying_unknown_reals=input_features,\n",
    "    scalers=scalers_dict,\n",
    ")"
   ]
  },
  {
   "cell_type": "code",
   "execution_count": 79,
   "id": "0909e4ea-ce26-474a-b0b7-a6f02536125a",
   "metadata": {},
   "outputs": [],
   "source": [
    "# and load the first batch\n",
    "x, y = next(iter(valid_dataloader))"
   ]
  },
  {
   "cell_type": "code",
   "execution_count": 80,
   "id": "305c7063-f169-4844-9f3b-e28ea298e457",
   "metadata": {},
   "outputs": [],
   "source": [
    "x, y = preprocessing_batch(x, y)"
   ]
  },
  {
   "cell_type": "code",
   "execution_count": 81,
   "id": "0f3cb4d4-e531-4fcf-956f-c359bad0eddf",
   "metadata": {},
   "outputs": [
    {
     "data": {
      "text/plain": [
       "(torch.Size([256, 50, 4]), torch.Size([256]))"
      ]
     },
     "execution_count": 81,
     "metadata": {},
     "output_type": "execute_result"
    }
   ],
   "source": [
    "x.shape, y.shape"
   ]
  },
  {
   "cell_type": "code",
   "execution_count": 12,
   "id": "4da0ffb0-dc34-4e51-91e2-3d7f667c5343",
   "metadata": {},
   "outputs": [],
   "source": [
    "y"
   ]
  },
  {
   "cell_type": "markdown",
   "id": "951f225a-09bf-4bbb-8ebb-c78b97b7d909",
   "metadata": {},
   "source": [
    "# Model Architecture"
   ]
  },
  {
   "cell_type": "code",
   "execution_count": 13,
   "id": "c2c5bbd9-ae89-4831-bc2e-120d9b99a031",
   "metadata": {},
   "outputs": [],
   "source": [
    "class PositionalEncoding(nn.Module):\n",
    "\n",
    "    def __init__(self, d_model: int, dropout: float = 0.1, max_len: int = 5000):\n",
    "        super().__init__()\n",
    "        self.dropout = nn.Dropout(p=dropout)\n",
    "\n",
    "        position = torch.arange(max_len).unsqueeze(1)\n",
    "        div_term = torch.exp(torch.arange(0, d_model, 2) * (-math.log(10000.0) / d_model))\n",
    "        pe = torch.zeros(max_len, 1, d_model)\n",
    "        pe[:, 0, 0::2] = torch.sin(position * div_term)\n",
    "        pe[:, 0, 1::2] = torch.cos(position * div_term)\n",
    "        self.register_buffer('pe', pe)\n",
    "\n",
    "    def forward(self, x: torch.Tensor) -> torch.Tensor:\n",
    "        \"\"\"\n",
    "        Arguments:\n",
    "            x: Tensor, shape ``[seq_len, batch_size, embedding_dim]``\n",
    "        \"\"\"\n",
    "        x = x + self.pe[:x.size(0)]\n",
    "        return self.dropout(x)\n",
    "\n",
    "\n",
    "class TransformerModel(nn.Module):\n",
    "\n",
    "    def __init__(self, nclasses: int, fsize: int, nhead: int, d_hid: int,\n",
    "                 nlayers: int, dropout: float = 0.5, batch_first=True):\n",
    "        super().__init__()\n",
    "        self.model_type = 'Transformer'\n",
    "        self.pos_encoder = PositionalEncoding(fsize, dropout)\n",
    "        encoder_layers = nn.TransformerEncoderLayer(fsize, nhead, d_hid, dropout, batch_first=batch_first)\n",
    "        self.transformer_encoder = nn.TransformerEncoder(encoder_layers, nlayers)\n",
    "        #self.embedding = nn.Embedding(ntoken, d_model)\n",
    "        #self.d_model = d_model\n",
    "        self.linear = nn.Linear(fsize, nclasses)\n",
    "        self.softmax = nn.Softmax(dim=1) # Probability 0-1 along dim=0\n",
    "        self.init_weights()\n",
    "        self.batch_first = batch_first\n",
    "        \n",
    "\n",
    "    def init_weights(self) -> None:\n",
    "        initrange = 0.1\n",
    "        #self.embedding.weight.data.uniform_(-initrange, initrange)\n",
    "        self.linear.bias.data.zero_()\n",
    "        self.linear.weight.data.uniform_(-initrange, initrange)\n",
    "\n",
    "    def forward(self, src: torch.Tensor, src_mask: torch.Tensor = None) -> torch.Tensor:\n",
    "        \"\"\"\n",
    "        Arguments:\n",
    "            src: Tensor, shape ``[batch_size, seq_len, features]``\n",
    "            src_mask: Tensor, shape ``[batch_size, seq_len, features]``\n",
    "            \n",
    "        if batch_first == False\n",
    "            src: Tensor, shape ``[seq_len, batch_size, features]``\n",
    "            src_mask: Tensor, shape ``[seq_len, batch_size, features]``\n",
    "\n",
    "        Returns:\n",
    "            output Tensor of shape ``[batch_size, nclasses]``\n",
    "        \"\"\"\n",
    "        #src = self.embedding(src) * math.sqrt(self.d_model)\n",
    "        src = self.pos_encoder(src)\n",
    "        if src_mask is None:\n",
    "            \"\"\"Generate a square causal mask for the sequence. The masked positions are filled with float('-inf').\n",
    "            Unmasked positions are filled with float(0.0).\n",
    "            \"\"\"\n",
    "            if self.batch_first == False:\n",
    "                src_mask = nn.Transformer.generate_square_subsequent_mask(src.shape[0]).to(device)\n",
    "            else:\n",
    "                src_mask = nn.Transformer.generate_square_subsequent_mask(src.shape[1]).to(device)\n",
    "                \n",
    "        output = self.transformer_encoder(src, src_mask)\n",
    "        output = self.linear(output)\n",
    "        if self.batch_first == False:\n",
    "            output = output.sum(dim=0) # We sum along the \"timestep\" axis/dim\n",
    "        else:\n",
    "            output = output.sum(dim=1) # We sum along the \"timestep\" axis/dim\n",
    "        output = self.softmax(output) # Output shape: [Batchsize, nclasses]\n",
    "        return output"
   ]
  },
  {
   "cell_type": "code",
   "execution_count": null,
   "id": "719726c8-839f-4ccb-936a-63e79ab5c15a",
   "metadata": {},
   "outputs": [],
   "source": [
    "class LocalTCN(nn.Module):\n",
    "    def __init__(self):\n",
    "        super().__init__(self, tcn_params):\n",
    "    "
   ]
  },
  {
   "cell_type": "markdown",
   "id": "657065ac-58eb-4a52-9cda-60f87bd7c6e4",
   "metadata": {},
   "source": [
    "# Model Training"
   ]
  },
  {
   "cell_type": "markdown",
   "id": "9b3fd328-6a9c-41cb-9609-60a5f86a7f8c",
   "metadata": {},
   "source": [
    "When CUDA is not responding run the following commands:\n",
    "- sudo rmmod nvidia_uvm\n",
    "- sudo modprobe nvidia_uvm"
   ]
  },
  {
   "cell_type": "code",
   "execution_count": 71,
   "id": "1324cbc2-ce6a-4b47-97e1-1b931e69f944",
   "metadata": {},
   "outputs": [],
   "source": [
    "# ******** Hyperparameters setup ******** \n",
    "# Choose whatever GPU device number you want\n",
    "model_arch = \"tcn\"\n",
    "num_epochs = 150\n",
    "batch_size = 256\n",
    "device = torch.device(\"cuda\" if torch.cuda.is_available() else \"cpu\")"
   ]
  },
  {
   "cell_type": "code",
   "execution_count": 72,
   "id": "44decbc2-4ec4-480b-8fb5-df476c112918",
   "metadata": {},
   "outputs": [],
   "source": [
    "# convert the dataset to a dataloader\n",
    "train_dataloader = train_dataset.to_dataloader(batch_size=batch_size)\n",
    "valid_dataloader = valid_dataset.to_dataloader(batch_size=batch_size)"
   ]
  },
  {
   "cell_type": "code",
   "execution_count": 83,
   "id": "210a4420-cbc3-4343-8e9f-9a271d1339d6",
   "metadata": {},
   "outputs": [],
   "source": [
    "if model_arch == \"transformer\":\n",
    "    nclasses =  2  # Number of classes\n",
    "    fsize = 4      # feature_size dimension\n",
    "    d_hid = 200    # dimension of the feedforward network model in ``nn.TransformerEncoder``\n",
    "    nlayers = 1    # number of ``nn.TransformerEncoderLayer`` in ``nn.TransformerEncoder``\n",
    "    nhead = 1      # number of heads in ``nn.MultiheadAttention``\n",
    "    dropout = 0\n",
    "    model = TransformerModel(nclasses, fsize, nhead, d_hid, nlayers, dropout).to(device)\n",
    "\n",
    "\n",
    "if model_arch == \"tcn\":\n",
    "    fsize = 4\n",
    "    model = TCN(\n",
    "        num_inputs = fsize,\n",
    "        num_channels = [128, 128, 64, 64],\n",
    "        dilations = [1, 2, 4, 8],\n",
    "        kernel_size = 8,\n",
    "        dropout = 0.2,\n",
    "        use_norm = \"layer_norm\",\n",
    "        activation = \"relu\",\n",
    "        kernel_initializer = \"kaiming_normal\",\n",
    "        use_skip_connections = True,\n",
    "        input_shape = \"NLC\"   \n",
    "    )\n"
   ]
  },
  {
   "cell_type": "code",
   "execution_count": 76,
   "id": "f9008769-380c-4fbb-a22a-ab3738adf3ad",
   "metadata": {},
   "outputs": [
    {
     "name": "stdout",
     "output_type": "stream",
     "text": [
      "TCN(\n",
      "  (downsample_skip_connection): ModuleList(\n",
      "    (0-1): 2 x Conv1d(128, 64, kernel_size=(1,), stride=(1,))\n",
      "    (2-3): 2 x None\n",
      "  )\n",
      "  (activation_skip_out): ReLU()\n",
      "  (network): ModuleList(\n",
      "    (0): TemporalBlock(\n",
      "      (conv1): CausalConv1d(4, 128, kernel_size=(8,), stride=(1,))\n",
      "      (conv2): CausalConv1d(128, 128, kernel_size=(8,), stride=(1,))\n",
      "      (norm1): LayerNorm((128,), eps=1e-05, elementwise_affine=True)\n",
      "      (norm2): LayerNorm((128,), eps=1e-05, elementwise_affine=True)\n",
      "      (activation1): ReLU()\n",
      "      (activation2): ReLU()\n",
      "      (activation_final): ReLU()\n",
      "      (dropout1): Dropout(p=0.2, inplace=False)\n",
      "      (dropout2): Dropout(p=0.2, inplace=False)\n",
      "      (downsample): Conv1d(4, 128, kernel_size=(1,), stride=(1,))\n",
      "    )\n",
      "    (1): TemporalBlock(\n",
      "      (conv1): CausalConv1d(128, 128, kernel_size=(8,), stride=(1,), dilation=(2,))\n",
      "      (conv2): CausalConv1d(128, 128, kernel_size=(8,), stride=(1,), dilation=(2,))\n",
      "      (norm1): LayerNorm((128,), eps=1e-05, elementwise_affine=True)\n",
      "      (norm2): LayerNorm((128,), eps=1e-05, elementwise_affine=True)\n",
      "      (activation1): ReLU()\n",
      "      (activation2): ReLU()\n",
      "      (activation_final): ReLU()\n",
      "      (dropout1): Dropout(p=0.2, inplace=False)\n",
      "      (dropout2): Dropout(p=0.2, inplace=False)\n",
      "    )\n",
      "    (2): TemporalBlock(\n",
      "      (conv1): CausalConv1d(128, 64, kernel_size=(8,), stride=(1,), dilation=(4,))\n",
      "      (conv2): CausalConv1d(64, 64, kernel_size=(8,), stride=(1,), dilation=(4,))\n",
      "      (norm1): LayerNorm((64,), eps=1e-05, elementwise_affine=True)\n",
      "      (norm2): LayerNorm((64,), eps=1e-05, elementwise_affine=True)\n",
      "      (activation1): ReLU()\n",
      "      (activation2): ReLU()\n",
      "      (activation_final): ReLU()\n",
      "      (dropout1): Dropout(p=0.2, inplace=False)\n",
      "      (dropout2): Dropout(p=0.2, inplace=False)\n",
      "      (downsample): Conv1d(128, 64, kernel_size=(1,), stride=(1,))\n",
      "    )\n",
      "    (3): TemporalBlock(\n",
      "      (conv1): CausalConv1d(64, 64, kernel_size=(8,), stride=(1,), dilation=(8,))\n",
      "      (conv2): CausalConv1d(64, 64, kernel_size=(8,), stride=(1,), dilation=(8,))\n",
      "      (norm1): LayerNorm((64,), eps=1e-05, elementwise_affine=True)\n",
      "      (norm2): LayerNorm((64,), eps=1e-05, elementwise_affine=True)\n",
      "      (activation1): ReLU()\n",
      "      (activation2): ReLU()\n",
      "      (activation_final): ReLU()\n",
      "      (dropout1): Dropout(p=0.2, inplace=False)\n",
      "      (dropout2): Dropout(p=0.2, inplace=False)\n",
      "    )\n",
      "  )\n",
      ")\n"
     ]
    }
   ],
   "source": [
    "# loss function and optimizer\n",
    "loss_fn = nn.CrossEntropyLoss()\n",
    "optimizer = optim.Adam(model.parameters(), lr=0.0001)\n",
    "print(model)"
   ]
  },
  {
   "cell_type": "code",
   "execution_count": 77,
   "id": "94890437-5d8c-4c12-88c6-3beb8702043a",
   "metadata": {
    "scrolled": true
   },
   "outputs": [
    {
     "name": "stdout",
     "output_type": "stream",
     "text": [
      "Epoch: 1/150\n"
     ]
    },
    {
     "ename": "RuntimeError",
     "evalue": "Expected target size [256, 64], got [256]",
     "output_type": "error",
     "traceback": [
      "\u001b[0;31m---------------------------------------------------------------------------\u001b[0m",
      "\u001b[0;31mRuntimeError\u001b[0m                              Traceback (most recent call last)",
      "Cell \u001b[0;32mIn[77], line 1\u001b[0m\n\u001b[0;32m----> 1\u001b[0m trained_model, history \u001b[38;5;241m=\u001b[39m \u001b[43mtrain_and_validate\u001b[49m\u001b[43m(\u001b[49m\u001b[43mmodel\u001b[49m\u001b[43m,\u001b[49m\u001b[43m \u001b[49m\u001b[43mloss_fn\u001b[49m\u001b[43m,\u001b[49m\u001b[43m \u001b[49m\u001b[43moptimizer\u001b[49m\u001b[43m,\u001b[49m\u001b[43m \u001b[49m\u001b[43mnum_epochs\u001b[49m\u001b[43m,\u001b[49m\u001b[43m \u001b[49m\u001b[43mtrain_dataloader\u001b[49m\u001b[43m,\u001b[49m\u001b[43m \u001b[49m\u001b[43mvalid_dataloader\u001b[49m\u001b[43m,\u001b[49m\u001b[43m \u001b[49m\u001b[43mdevice\u001b[49m\u001b[43m)\u001b[49m\n",
      "Cell \u001b[0;32mIn[4], line 49\u001b[0m, in \u001b[0;36mtrain_and_validate\u001b[0;34m(model, loss_criterion, optimizer, epochs, train_data_loader, valid_data_loader, device)\u001b[0m\n\u001b[1;32m     44\u001b[0m outputs \u001b[38;5;241m=\u001b[39m model(inputs)\n\u001b[1;32m     46\u001b[0m \u001b[38;5;66;03m#print(f\"Output shape: {outputs.shape} \\t Label shape: {labels.shape}\")\u001b[39;00m\n\u001b[1;32m     47\u001b[0m \n\u001b[1;32m     48\u001b[0m \u001b[38;5;66;03m# Compute loss\u001b[39;00m\n\u001b[0;32m---> 49\u001b[0m loss \u001b[38;5;241m=\u001b[39m \u001b[43mloss_criterion\u001b[49m\u001b[43m(\u001b[49m\u001b[43moutputs\u001b[49m\u001b[43m,\u001b[49m\u001b[43m \u001b[49m\u001b[43mlabels\u001b[49m\u001b[43m)\u001b[49m \u001b[38;5;66;03m#.to(torch.float32)\u001b[39;00m\n\u001b[1;32m     51\u001b[0m \u001b[38;5;66;03m#print(f\"Outputs: {outputs} \\t type: {outputs.dtype}\")\u001b[39;00m\n\u001b[1;32m     52\u001b[0m \u001b[38;5;66;03m#print(f\"Loss: {loss} \\t type: {loss.dtype}\")\u001b[39;00m\n\u001b[1;32m     53\u001b[0m \n\u001b[1;32m     54\u001b[0m \u001b[38;5;66;03m# Backpropagate the gradients\u001b[39;00m\n\u001b[1;32m     55\u001b[0m loss\u001b[38;5;241m.\u001b[39mbackward()\n",
      "File \u001b[0;32m~/miniconda3/envs/gel/lib/python3.8/site-packages/torch/nn/modules/module.py:1511\u001b[0m, in \u001b[0;36mModule._wrapped_call_impl\u001b[0;34m(self, *args, **kwargs)\u001b[0m\n\u001b[1;32m   1509\u001b[0m     \u001b[38;5;28;01mreturn\u001b[39;00m \u001b[38;5;28mself\u001b[39m\u001b[38;5;241m.\u001b[39m_compiled_call_impl(\u001b[38;5;241m*\u001b[39margs, \u001b[38;5;241m*\u001b[39m\u001b[38;5;241m*\u001b[39mkwargs)  \u001b[38;5;66;03m# type: ignore[misc]\u001b[39;00m\n\u001b[1;32m   1510\u001b[0m \u001b[38;5;28;01melse\u001b[39;00m:\n\u001b[0;32m-> 1511\u001b[0m     \u001b[38;5;28;01mreturn\u001b[39;00m \u001b[38;5;28;43mself\u001b[39;49m\u001b[38;5;241;43m.\u001b[39;49m\u001b[43m_call_impl\u001b[49m\u001b[43m(\u001b[49m\u001b[38;5;241;43m*\u001b[39;49m\u001b[43margs\u001b[49m\u001b[43m,\u001b[49m\u001b[43m \u001b[49m\u001b[38;5;241;43m*\u001b[39;49m\u001b[38;5;241;43m*\u001b[39;49m\u001b[43mkwargs\u001b[49m\u001b[43m)\u001b[49m\n",
      "File \u001b[0;32m~/miniconda3/envs/gel/lib/python3.8/site-packages/torch/nn/modules/module.py:1520\u001b[0m, in \u001b[0;36mModule._call_impl\u001b[0;34m(self, *args, **kwargs)\u001b[0m\n\u001b[1;32m   1515\u001b[0m \u001b[38;5;66;03m# If we don't have any hooks, we want to skip the rest of the logic in\u001b[39;00m\n\u001b[1;32m   1516\u001b[0m \u001b[38;5;66;03m# this function, and just call forward.\u001b[39;00m\n\u001b[1;32m   1517\u001b[0m \u001b[38;5;28;01mif\u001b[39;00m \u001b[38;5;129;01mnot\u001b[39;00m (\u001b[38;5;28mself\u001b[39m\u001b[38;5;241m.\u001b[39m_backward_hooks \u001b[38;5;129;01mor\u001b[39;00m \u001b[38;5;28mself\u001b[39m\u001b[38;5;241m.\u001b[39m_backward_pre_hooks \u001b[38;5;129;01mor\u001b[39;00m \u001b[38;5;28mself\u001b[39m\u001b[38;5;241m.\u001b[39m_forward_hooks \u001b[38;5;129;01mor\u001b[39;00m \u001b[38;5;28mself\u001b[39m\u001b[38;5;241m.\u001b[39m_forward_pre_hooks\n\u001b[1;32m   1518\u001b[0m         \u001b[38;5;129;01mor\u001b[39;00m _global_backward_pre_hooks \u001b[38;5;129;01mor\u001b[39;00m _global_backward_hooks\n\u001b[1;32m   1519\u001b[0m         \u001b[38;5;129;01mor\u001b[39;00m _global_forward_hooks \u001b[38;5;129;01mor\u001b[39;00m _global_forward_pre_hooks):\n\u001b[0;32m-> 1520\u001b[0m     \u001b[38;5;28;01mreturn\u001b[39;00m \u001b[43mforward_call\u001b[49m\u001b[43m(\u001b[49m\u001b[38;5;241;43m*\u001b[39;49m\u001b[43margs\u001b[49m\u001b[43m,\u001b[49m\u001b[43m \u001b[49m\u001b[38;5;241;43m*\u001b[39;49m\u001b[38;5;241;43m*\u001b[39;49m\u001b[43mkwargs\u001b[49m\u001b[43m)\u001b[49m\n\u001b[1;32m   1522\u001b[0m \u001b[38;5;28;01mtry\u001b[39;00m:\n\u001b[1;32m   1523\u001b[0m     result \u001b[38;5;241m=\u001b[39m \u001b[38;5;28;01mNone\u001b[39;00m\n",
      "File \u001b[0;32m~/miniconda3/envs/gel/lib/python3.8/site-packages/torch/nn/modules/loss.py:1179\u001b[0m, in \u001b[0;36mCrossEntropyLoss.forward\u001b[0;34m(self, input, target)\u001b[0m\n\u001b[1;32m   1178\u001b[0m \u001b[38;5;28;01mdef\u001b[39;00m \u001b[38;5;21mforward\u001b[39m(\u001b[38;5;28mself\u001b[39m, \u001b[38;5;28minput\u001b[39m: Tensor, target: Tensor) \u001b[38;5;241m-\u001b[39m\u001b[38;5;241m>\u001b[39m Tensor:\n\u001b[0;32m-> 1179\u001b[0m     \u001b[38;5;28;01mreturn\u001b[39;00m \u001b[43mF\u001b[49m\u001b[38;5;241;43m.\u001b[39;49m\u001b[43mcross_entropy\u001b[49m\u001b[43m(\u001b[49m\u001b[38;5;28;43minput\u001b[39;49m\u001b[43m,\u001b[49m\u001b[43m \u001b[49m\u001b[43mtarget\u001b[49m\u001b[43m,\u001b[49m\u001b[43m \u001b[49m\u001b[43mweight\u001b[49m\u001b[38;5;241;43m=\u001b[39;49m\u001b[38;5;28;43mself\u001b[39;49m\u001b[38;5;241;43m.\u001b[39;49m\u001b[43mweight\u001b[49m\u001b[43m,\u001b[49m\n\u001b[1;32m   1180\u001b[0m \u001b[43m                           \u001b[49m\u001b[43mignore_index\u001b[49m\u001b[38;5;241;43m=\u001b[39;49m\u001b[38;5;28;43mself\u001b[39;49m\u001b[38;5;241;43m.\u001b[39;49m\u001b[43mignore_index\u001b[49m\u001b[43m,\u001b[49m\u001b[43m \u001b[49m\u001b[43mreduction\u001b[49m\u001b[38;5;241;43m=\u001b[39;49m\u001b[38;5;28;43mself\u001b[39;49m\u001b[38;5;241;43m.\u001b[39;49m\u001b[43mreduction\u001b[49m\u001b[43m,\u001b[49m\n\u001b[1;32m   1181\u001b[0m \u001b[43m                           \u001b[49m\u001b[43mlabel_smoothing\u001b[49m\u001b[38;5;241;43m=\u001b[39;49m\u001b[38;5;28;43mself\u001b[39;49m\u001b[38;5;241;43m.\u001b[39;49m\u001b[43mlabel_smoothing\u001b[49m\u001b[43m)\u001b[49m\n",
      "File \u001b[0;32m~/miniconda3/envs/gel/lib/python3.8/site-packages/torch/nn/functional.py:3059\u001b[0m, in \u001b[0;36mcross_entropy\u001b[0;34m(input, target, weight, size_average, ignore_index, reduce, reduction, label_smoothing)\u001b[0m\n\u001b[1;32m   3057\u001b[0m \u001b[38;5;28;01mif\u001b[39;00m size_average \u001b[38;5;129;01mis\u001b[39;00m \u001b[38;5;129;01mnot\u001b[39;00m \u001b[38;5;28;01mNone\u001b[39;00m \u001b[38;5;129;01mor\u001b[39;00m reduce \u001b[38;5;129;01mis\u001b[39;00m \u001b[38;5;129;01mnot\u001b[39;00m \u001b[38;5;28;01mNone\u001b[39;00m:\n\u001b[1;32m   3058\u001b[0m     reduction \u001b[38;5;241m=\u001b[39m _Reduction\u001b[38;5;241m.\u001b[39mlegacy_get_string(size_average, reduce)\n\u001b[0;32m-> 3059\u001b[0m \u001b[38;5;28;01mreturn\u001b[39;00m \u001b[43mtorch\u001b[49m\u001b[38;5;241;43m.\u001b[39;49m\u001b[43m_C\u001b[49m\u001b[38;5;241;43m.\u001b[39;49m\u001b[43m_nn\u001b[49m\u001b[38;5;241;43m.\u001b[39;49m\u001b[43mcross_entropy_loss\u001b[49m\u001b[43m(\u001b[49m\u001b[38;5;28;43minput\u001b[39;49m\u001b[43m,\u001b[49m\u001b[43m \u001b[49m\u001b[43mtarget\u001b[49m\u001b[43m,\u001b[49m\u001b[43m \u001b[49m\u001b[43mweight\u001b[49m\u001b[43m,\u001b[49m\u001b[43m \u001b[49m\u001b[43m_Reduction\u001b[49m\u001b[38;5;241;43m.\u001b[39;49m\u001b[43mget_enum\u001b[49m\u001b[43m(\u001b[49m\u001b[43mreduction\u001b[49m\u001b[43m)\u001b[49m\u001b[43m,\u001b[49m\u001b[43m \u001b[49m\u001b[43mignore_index\u001b[49m\u001b[43m,\u001b[49m\u001b[43m \u001b[49m\u001b[43mlabel_smoothing\u001b[49m\u001b[43m)\u001b[49m\n",
      "\u001b[0;31mRuntimeError\u001b[0m: Expected target size [256, 64], got [256]"
     ]
    }
   ],
   "source": [
    "trained_model, history = train_and_validate(model, loss_fn, optimizer, num_epochs, train_dataloader, valid_dataloader, device)"
   ]
  },
  {
   "cell_type": "code",
   "execution_count": 86,
   "id": "39be32c6-3950-433d-8184-6b45a4fbb4c4",
   "metadata": {
    "scrolled": true
   },
   "outputs": [],
   "source": [
    "output = model(x)"
   ]
  },
  {
   "cell_type": "code",
   "execution_count": 87,
   "id": "6a4c79aa-2af4-4105-853e-c664faed90f4",
   "metadata": {},
   "outputs": [
    {
     "data": {
      "text/plain": [
       "torch.Size([256, 50, 64])"
      ]
     },
     "execution_count": 87,
     "metadata": {},
     "output_type": "execute_result"
    }
   ],
   "source": [
    "output.shape\n"
   ]
  },
  {
   "cell_type": "code",
   "execution_count": null,
   "id": "a2f06051-929c-4fa3-a4b3-4e7ec389e937",
   "metadata": {},
   "outputs": [],
   "source": []
  },
  {
   "cell_type": "code",
   "execution_count": null,
   "id": "2562d1f4-7387-486c-96e7-df0f8ff9f0eb",
   "metadata": {},
   "outputs": [],
   "source": []
  },
  {
   "cell_type": "code",
   "execution_count": 19,
   "id": "81585827-cad6-4a95-bed8-a683efc44f74",
   "metadata": {},
   "outputs": [],
   "source": [
    "output = model(x.to(\"cuda\"))"
   ]
  },
  {
   "cell_type": "code",
   "execution_count": 37,
   "id": "8769f0b9-c5bc-4077-bd80-73f7c1991435",
   "metadata": {},
   "outputs": [
    {
     "data": {
      "text/plain": [
       "tensor([[0.7248, 0.2752],\n",
       "        [0.8109, 0.1891]], device='cuda:0')"
      ]
     },
     "execution_count": 37,
     "metadata": {},
     "output_type": "execute_result"
    }
   ],
   "source": [
    "output.data"
   ]
  },
  {
   "cell_type": "code",
   "execution_count": 20,
   "id": "37794211-0184-48fa-9f16-a1f299f93d2c",
   "metadata": {},
   "outputs": [
    {
     "data": {
      "text/plain": [
       "(torch.Size([2, 50, 4]),)"
      ]
     },
     "execution_count": 20,
     "metadata": {},
     "output_type": "execute_result"
    }
   ],
   "source": [
    "x.shape, #output.shape"
   ]
  },
  {
   "cell_type": "code",
   "execution_count": 21,
   "id": "d5e59a52-8a38-471c-aeb8-429609cd4295",
   "metadata": {},
   "outputs": [
    {
     "data": {
      "text/plain": [
       "tensor([[0.7248, 0.2752],\n",
       "        [0.8109, 0.1891]], device='cuda:0', grad_fn=<SoftmaxBackward0>)"
      ]
     },
     "execution_count": 21,
     "metadata": {},
     "output_type": "execute_result"
    }
   ],
   "source": [
    "output"
   ]
  },
  {
   "cell_type": "code",
   "execution_count": 23,
   "id": "fd8982eb-10b0-4a9f-8d9d-1daf828416fa",
   "metadata": {},
   "outputs": [],
   "source": [
    "ret, predictions = torch.max(output, 1)"
   ]
  },
  {
   "cell_type": "code",
   "execution_count": 29,
   "id": "eeaf7bcc-a118-4c86-a04d-5a383c1fe854",
   "metadata": {},
   "outputs": [],
   "source": [
    "y[0] = 1"
   ]
  },
  {
   "cell_type": "code",
   "execution_count": 38,
   "id": "c837ec98-d09d-4626-b4bf-11f5fe6b27de",
   "metadata": {},
   "outputs": [],
   "source": [
    "correct_counts = predictions.eq(y.to(\"cuda\").data.view_as(predictions))"
   ]
  },
  {
   "cell_type": "code",
   "execution_count": 39,
   "id": "c367ded6-fc48-4326-b50a-f2a1953f3459",
   "metadata": {},
   "outputs": [
    {
     "data": {
      "text/plain": [
       "tensor([False,  True], device='cuda:0')"
      ]
     },
     "execution_count": 39,
     "metadata": {},
     "output_type": "execute_result"
    }
   ],
   "source": [
    "correct_counts"
   ]
  },
  {
   "cell_type": "code",
   "execution_count": 43,
   "id": "b4381d2b-464d-48b3-9777-5058b8ba3a4b",
   "metadata": {},
   "outputs": [],
   "source": [
    "acc =torch.mean(correct_counts.type(torch.FloatTensor))"
   ]
  },
  {
   "cell_type": "code",
   "execution_count": 42,
   "id": "6f182b41-5601-4dfd-9647-82de4a6ab43d",
   "metadata": {},
   "outputs": [
    {
     "data": {
      "text/plain": [
       "2"
      ]
     },
     "execution_count": 42,
     "metadata": {},
     "output_type": "execute_result"
    }
   ],
   "source": []
  },
  {
   "cell_type": "code",
   "execution_count": 45,
   "id": "25f06de4-4578-48b2-a271-9e6a864604b3",
   "metadata": {},
   "outputs": [],
   "source": [
    "train_acc =0"
   ]
  },
  {
   "cell_type": "code",
   "execution_count": 46,
   "id": "b815a69c-0ebe-4de7-a4be-73de459ffde3",
   "metadata": {},
   "outputs": [],
   "source": [
    "# Convert correct_counts to float and then compute the mean\n",
    "acc = torch.mean(correct_counts.type(torch.FloatTensor))\n",
    "\n",
    "# Compute total accuracy in the whole batch and add to train_acc\n",
    "train_acc += acc.item() * x.size(0)"
   ]
  },
  {
   "cell_type": "code",
   "execution_count": 47,
   "id": "7549725b-d36a-4f77-a31f-74d9fbf9e935",
   "metadata": {},
   "outputs": [
    {
     "data": {
      "text/plain": [
       "1.0"
      ]
     },
     "execution_count": 47,
     "metadata": {},
     "output_type": "execute_result"
    }
   ],
   "source": [
    "train_acc"
   ]
  },
  {
   "cell_type": "code",
   "execution_count": 48,
   "id": "22dea2d0-3501-4674-8756-d14ce47c16e9",
   "metadata": {},
   "outputs": [
    {
     "data": {
      "text/plain": [
       "0.5"
      ]
     },
     "execution_count": 48,
     "metadata": {},
     "output_type": "execute_result"
    }
   ],
   "source": [
    "acc.item()"
   ]
  },
  {
   "cell_type": "code",
   "execution_count": 24,
   "id": "47d8cd2f-ce55-4100-8883-a51b085d5709",
   "metadata": {},
   "outputs": [],
   "source": [
    "criterion =  nn.CrossEntropyLoss()\n"
   ]
  },
  {
   "cell_type": "code",
   "execution_count": 25,
   "id": "2f2cf819-38b2-4d97-b25b-afcf0e931da5",
   "metadata": {},
   "outputs": [],
   "source": [
    "y = torch.squeeze(y)"
   ]
  },
  {
   "cell_type": "code",
   "execution_count": 26,
   "id": "22505306-d1ec-4606-82f2-6723a492043e",
   "metadata": {},
   "outputs": [
    {
     "data": {
      "text/plain": [
       "tensor(0.8093, device='cuda:0', grad_fn=<NllLossBackward0>)"
      ]
     },
     "execution_count": 26,
     "metadata": {},
     "output_type": "execute_result"
    }
   ],
   "source": [
    "criterion(output, y.to(\"cuda\"))"
   ]
  },
  {
   "cell_type": "code",
   "execution_count": null,
   "id": "f83f16d2-6ce8-49e4-9fa4-cbb7f99ec00f",
   "metadata": {},
   "outputs": [],
   "source": []
  }
 ],
 "metadata": {
  "kernelspec": {
   "display_name": "Python 3 (ipykernel)",
   "language": "python",
   "name": "python3"
  },
  "language_info": {
   "codemirror_mode": {
    "name": "ipython",
    "version": 3
   },
   "file_extension": ".py",
   "mimetype": "text/x-python",
   "name": "python",
   "nbconvert_exporter": "python",
   "pygments_lexer": "ipython3",
   "version": "3.8.19"
  }
 },
 "nbformat": 4,
 "nbformat_minor": 5
}
